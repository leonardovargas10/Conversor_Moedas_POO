{
 "cells": [
  {
   "attachments": {},
   "cell_type": "markdown",
   "metadata": {},
   "source": [
    "# <font color='red' style='font-size: 40px;'> Conversor de Moedas Orientado a Objetos </font>\n",
    "<hr style='border: 2px solid red;'>\n",
    "\n",
    "> CONSULTAR:\n",
    "\n",
    "Here's your free API key: c9de7cb6a25ec466890e\n",
    "\n",
    "https://free.currencyconverterapi.com/"
   ]
  },
  {
   "cell_type": "code",
   "execution_count": 30,
   "metadata": {},
   "outputs": [],
   "source": [
    "import pandas as pd \n",
    "import numpy as np\n",
    "from requests import get\n",
    "\n",
    "pd.set_option('display.max_rows', 100)\n",
    "pd.set_option('display.max_columns', 100)\n",
    "pd.set_option('display.float_format', lambda x: '%.2f' % x) # Tira os números do formato de Notação Científica\n",
    "np.set_printoptions(suppress=True) # Tira os números do formato de Notação Científica em Numpy Arrays"
   ]
  },
  {
   "cell_type": "code",
   "execution_count": 31,
   "metadata": {},
   "outputs": [],
   "source": [
    "api_key = 'c9de7cb6a25ec466890e'"
   ]
  },
  {
   "cell_type": "code",
   "execution_count": 32,
   "metadata": {},
   "outputs": [],
   "source": [
    "class ConversorMoedas:\n",
    "    def __init__(self, api_key):\n",
    "        self.url_api = 'https://free.currconv.com/api/v7/currencies?apiKey='\n",
    "        self.api_key = api_key\n",
    "        self.moedas = self.obtendo_moedas()\n",
    "        self.url_api_transformadora = 'https://free.currconv.com/api/v7/convert?q='\n",
    "\n",
    "    def obtendo_moedas(self):\n",
    "        url = self.url_api + self.api_key\n",
    "        dados = list(get(url).json()['results'].values())\n",
    "        return dados\n",
    "\n",
    "    def moedas_disponiveis(self):\n",
    "        id_moedas = []\n",
    "        nome_moedas = []\n",
    "        simbolo_moedas = []\n",
    "        for moeda in self.moedas: \n",
    "            nome_moeda = moeda.get('currencyName', '')\n",
    "            simbolo_moeda = moeda.get('currencySymbol', '')\n",
    "            id_moeda = moeda.get('id', '')\n",
    "            # print(f'ID Moeda:{id_moeda} | Nome Moeda: {nome_moeda} | Símbolo Moeda: {simbolo_moeda}')\n",
    "            id_moedas.append(id_moeda)\n",
    "            nome_moedas.append(nome_moeda)\n",
    "            simbolo_moedas.append(simbolo_moeda)   \n",
    "        df = pd.DataFrame({'id_moeda':id_moedas, 'nome_moeda':nome_moedas, 'simbolo_moeda':simbolo_moedas})\n",
    "        lenght_df = np.arange(len(df))\n",
    "        return df.sort_values(by = 'nome_moeda', ascending = True).set_index(lenght_df)\n",
    "\n",
    "    def converte_moeda(self, moeda_atual, moeda_desejada, quantia_moeda_atual):\n",
    "        url = f'{self.url_api_transformadora}{moeda_atual}_{moeda_desejada}&compact=ultra&apiKey={self.api_key}'\n",
    "        dados = get(url).json()\n",
    "        try:\n",
    "            quantia_moeda_atual = float(quantia_moeda_atual)\n",
    "            try:\n",
    "                conversor = dados[f'{moeda_atual}_{moeda_desejada}']\n",
    "                quantia_moeda_desejada = round(conversor*quantia_moeda_atual, 2)\n",
    "                return f'{quantia_moeda_atual} da Moeda {moeda_atual} equivale a {quantia_moeda_desejada} da Moeda {moeda_desejada}!'\n",
    "            except:\n",
    "                return ('Moeda Inválida! Por favor, revise o ID da Moeda.')\n",
    "        except:\n",
    "            return ('Quantia Inválida! Por favor, coloque uma quantia numérica.')"
   ]
  },
  {
   "cell_type": "code",
   "execution_count": 33,
   "metadata": {},
   "outputs": [],
   "source": [
    "conversor = ConversorMoedas(api_key)"
   ]
  },
  {
   "attachments": {},
   "cell_type": "markdown",
   "metadata": {},
   "source": [
    "### Para realizar a Conversão, siga os passos:\n",
    "\n",
    "> 1. Digite a seguinte frase, mantendo as aspas e trocando os textos pelas informações desejadas:\n",
    "\n",
    "- conversor.converte_moeda('Moeda Atual', 'Moeda Desejada', 'Quantia da Moeda Atual')\n",
    "\n",
    "> 2. Posteriormente, uma frase retornará os valores. A seguir, temos um exemplo de conversão de 337,29 dólares em reais.\n"
   ]
  },
  {
   "cell_type": "code",
   "execution_count": 34,
   "metadata": {},
   "outputs": [
    {
     "data": {
      "text/plain": [
       "'337.29 da Moeda USD equivale a 1742.71 da Moeda BRL!'"
      ]
     },
     "execution_count": 34,
     "metadata": {},
     "output_type": "execute_result"
    }
   ],
   "source": [
    "conversor.converte_moeda('USD', 'BRL', 337.29)"
   ]
  }
 ],
 "metadata": {
  "kernelspec": {
   "display_name": "base",
   "language": "python",
   "name": "python3"
  },
  "language_info": {
   "codemirror_mode": {
    "name": "ipython",
    "version": 3
   },
   "file_extension": ".py",
   "mimetype": "text/x-python",
   "name": "python",
   "nbconvert_exporter": "python",
   "pygments_lexer": "ipython3",
   "version": "3.9.12"
  },
  "orig_nbformat": 4,
  "vscode": {
   "interpreter": {
    "hash": "5a9a036f549c34521959f2e35c11282d59c2fa6997060d671aa6f29f1c44b680"
   }
  }
 },
 "nbformat": 4,
 "nbformat_minor": 2
}
